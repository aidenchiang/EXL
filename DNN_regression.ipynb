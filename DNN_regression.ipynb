{
 "cells": [
  {
   "cell_type": "code",
   "execution_count": 100,
   "metadata": {},
   "outputs": [],
   "source": [
    "import tensorflow as tf\n",
    "from tensorflow import keras\n",
    "from tensorflow.keras import layers\n",
    "\n",
    "import numpy as np\n",
    "import pandas as pd\n",
    "import matplotlib.pyplot as plt\n",
    "from pandas.plotting import table\n",
    "\n",
    "from scipy.ndimage import gaussian_filter\n",
    "import matplotlib.cm as cm"
   ]
  },
  {
   "cell_type": "code",
   "execution_count": 101,
   "metadata": {},
   "outputs": [
    {
     "name": "stdout",
     "output_type": "stream",
     "text": [
      "2.9.1\n"
     ]
    }
   ],
   "source": [
    "np.set_printoptions(precision=3, suppress=True)\n",
    "print(tf.__version__)"
   ]
  },
  {
   "cell_type": "code",
   "execution_count": 102,
   "metadata": {},
   "outputs": [],
   "source": [
    "raw_seda = pd.read_csv('seda_geodist_long_gcs_4.1.csv')"
   ]
  },
  {
   "cell_type": "code",
   "execution_count": 103,
   "metadata": {},
   "outputs": [],
   "source": [
    "raw_seda = raw_seda.drop(labels=['sedaleaname','fips','stateabb','sedalea','gcs_mn_all','gcs_mnse_all','gcs_mnse_asn','gcs_mnse_blk','gcs_mnse_ecd','gcs_mnse_fem','gcs_mnse_hsp','gcs_mnse_mal','gcs_mn_mfg','gcs_mnse_mfg','gcs_mn_mtr','gcs_mnse_mtr','gcs_mnse_nam','gcs_mnse_nec','gcs_mn_neg','gcs_mnse_neg','totgyb_neg','gcs_mn_wag','gcs_mnse_wag','totgyb_wag','gcs_mn_wbg','gcs_mnse_wbg','totgyb_wbg','gcs_mn_whg','gcs_mnse_whg','totgyb_whg','gcs_mnse_wht','gcs_mn_wmg','gcs_mnse_wmg','totgyb_wmg','gcs_mn_wng','gcs_mnse_wng','totgyb_wng'], axis=1)"
   ]
  },
  {
   "cell_type": "code",
   "execution_count": 104,
   "metadata": {},
   "outputs": [],
   "source": [
    "raw_seda['pct_asn'] = raw_seda['totgyb_asn'] / raw_seda['totgyb_all'] * 100\n",
    "raw_seda['pct_blk'] = raw_seda['totgyb_blk'] / raw_seda['totgyb_all'] * 100\n",
    "raw_seda['pct_hsp'] = raw_seda['totgyb_hsp'] / raw_seda['totgyb_all'] * 100\n",
    "raw_seda['pct_nam'] = raw_seda['totgyb_nam'] / raw_seda['totgyb_all'] * 100\n",
    "raw_seda['pct_wht'] = raw_seda['totgyb_wht'] / raw_seda['totgyb_all'] * 100\n",
    "raw_seda['pct_mal'] = raw_seda['totgyb_mal'] / raw_seda['totgyb_all'] * 100\n",
    "raw_seda['pct_fem'] = raw_seda['totgyb_fem'] / raw_seda['totgyb_all'] * 100\n",
    "raw_seda['pct_ecd'] = raw_seda['totgyb_ecd'] / raw_seda['totgyb_all'] * 100\n",
    "raw_seda['pct_nec'] = raw_seda['totgyb_nec'] / raw_seda['totgyb_all'] * 100\n",
    "raw_seda = raw_seda.drop(columns=['totgyb_all','totgyb_asn', 'totgyb_blk','totgyb_ecd','totgyb_fem','totgyb_hsp','totgyb_mal','totgyb_nam','totgyb_nec','totgyb_wht'])"
   ]
  },
  {
   "cell_type": "code",
   "execution_count": 105,
   "metadata": {},
   "outputs": [],
   "source": [
    "seda = pd.DataFrame()\n",
    "temp = pd.DataFrame()"
   ]
  },
  {
   "cell_type": "code",
   "execution_count": 106,
   "metadata": {},
   "outputs": [],
   "source": [
    "temp = raw_seda[['subject','grade','year','gcs_mn_asn','pct_asn']].copy()\n",
    "temp = temp.rename(columns={'gcs_mn_asn':'score','pct_asn':'cohort_pct'})\n",
    "temp = temp.dropna()\n",
    "temp['asian'] = 1\n",
    "\n",
    "seda = pd.concat([seda, temp])\n",
    "\n",
    "temp = raw_seda[['subject','grade','year','gcs_mn_blk','pct_blk']].copy()\n",
    "temp = temp.rename(columns={'gcs_mn_blk':'score','pct_blk':'cohort_pct'})\n",
    "temp = temp.dropna()\n",
    "temp['african american'] = 1\n",
    "\n",
    "seda = pd.concat([seda, temp])\n",
    "\n",
    "temp = raw_seda[['subject','grade','year','gcs_mn_hsp','pct_hsp']].copy()\n",
    "temp = temp.rename(columns={'gcs_mn_hsp':'score','pct_hsp':'cohort_pct'})\n",
    "temp = temp.dropna()\n",
    "temp['hispanic'] = 1\n",
    "\n",
    "seda = pd.concat([seda, temp])\n",
    "\n",
    "temp = raw_seda[['subject','grade','year','gcs_mn_nam','pct_nam']].copy()\n",
    "temp = temp.rename(columns={'gcs_mn_nam':'score','pct_nam':'cohort_pct'})\n",
    "temp = temp.dropna()\n",
    "temp['native american'] = 1\n",
    "\n",
    "seda = pd.concat([seda, temp])\n",
    "\n",
    "temp = raw_seda[['subject','grade','year','gcs_mn_wht','pct_wht']].copy()\n",
    "temp = temp.rename(columns={'gcs_mn_wht':'score','pct_wht':'cohort_pct'})\n",
    "temp = temp.dropna()\n",
    "temp['white'] = 1\n",
    "\n",
    "seda = pd.concat([seda, temp])"
   ]
  },
  {
   "cell_type": "code",
   "execution_count": 107,
   "metadata": {},
   "outputs": [],
   "source": [
    "temp = raw_seda[['subject','grade','year','gcs_mn_ecd','pct_ecd']].copy()\n",
    "temp = temp.rename(columns={'gcs_mn_ecd':'score','pct_ecd':'cohort_pct'})\n",
    "temp = temp.dropna()\n",
    "temp['ECD'] = 1\n",
    "\n",
    "seda = pd.concat([seda, temp])\n",
    "\n",
    "temp = raw_seda[['subject','grade','year','gcs_mn_nec','pct_nec']].copy()\n",
    "temp = temp.rename(columns={'gcs_mn_nec':'score','pct_nec':'cohort_pct'})\n",
    "temp = temp.dropna()\n",
    "temp['nec'] = 1\n",
    "\n",
    "seda = pd.concat([seda, temp])"
   ]
  },
  {
   "cell_type": "code",
   "execution_count": 108,
   "metadata": {},
   "outputs": [],
   "source": [
    "temp = raw_seda[['subject','grade','year','gcs_mn_fem', 'pct_fem']].copy()\n",
    "temp = temp.rename(columns={'gcs_mn_fem':'score','pct_fem':'cohort_pct'})\n",
    "temp = temp.dropna()\n",
    "temp['female'] = 1\n",
    "\n",
    "seda = pd.concat([seda, temp])\n",
    "\n",
    "temp = raw_seda[['subject','grade','year','gcs_mn_mal', 'pct_mal']].copy()\n",
    "temp = temp.rename(columns={'gcs_mn_mal':'score','pct_mal':'cohort_pct'})\n",
    "temp = temp.dropna()\n",
    "temp['male'] = 1\n",
    "\n",
    "seda = pd.concat([seda, temp])"
   ]
  },
  {
   "cell_type": "code",
   "execution_count": 109,
   "metadata": {},
   "outputs": [],
   "source": [
    "seda = seda.fillna(0)\n",
    "seda['cohort_pct'] = seda['cohort_pct'].replace(to_replace=0, value=-1)\n",
    "\n",
    "seda = seda.sample(frac=1)"
   ]
  },
  {
   "cell_type": "code",
   "execution_count": 110,
   "metadata": {},
   "outputs": [],
   "source": [
    "subject_dict = {'mth': 0, 'rla': 1}\n",
    "seda = seda.replace({'subject': subject_dict})"
   ]
  },
  {
   "cell_type": "code",
   "execution_count": 111,
   "metadata": {},
   "outputs": [],
   "source": [
    "train_set = seda.sample(frac=0.8, random_state=2)\n",
    "test_set = seda.drop(train_set.index)\n",
    "\n",
    "train_set.to_numpy()\n",
    "test_set.to_numpy()\n",
    "\n",
    "train_features = train_set.copy()\n",
    "test_features = test_set.copy()\n",
    "\n",
    "train_labels = train_features.pop('score')\n",
    "test_labels = test_features.pop('score')"
   ]
  },
  {
   "cell_type": "code",
   "execution_count": 112,
   "metadata": {},
   "outputs": [],
   "source": [
    "normalizer = tf.keras.layers.Normalization(axis=-1)\n",
    "normalizer.adapt(np.array(train_features))"
   ]
  },
  {
   "cell_type": "code",
   "execution_count": 113,
   "metadata": {},
   "outputs": [],
   "source": [
    "model = keras.Sequential([\n",
    "      normalizer,\n",
    "      layers.Dense(8, activation='relu'),\n",
    "      layers.Dense(1)\n",
    "  ])"
   ]
  },
  {
   "cell_type": "code",
   "execution_count": 114,
   "metadata": {},
   "outputs": [],
   "source": [
    " model.compile(loss='mean_absolute_error',\n",
    "                optimizer=tf.keras.optimizers.Adam(0.001))"
   ]
  },
  {
   "cell_type": "code",
   "execution_count": 115,
   "metadata": {},
   "outputs": [
    {
     "name": "stdout",
     "output_type": "stream",
     "text": [
      "Epoch 1/3\n",
      "107578/107578 [==============================] - 144s 1ms/step - loss: 0.9088 - val_loss: 0.8917\n",
      "Epoch 2/3\n",
      "107578/107578 [==============================] - 142s 1ms/step - loss: 0.8883 - val_loss: 0.8880\n",
      "Epoch 3/3\n",
      "107578/107578 [==============================] - 140s 1ms/step - loss: 0.8868 - val_loss: 0.8857\n"
     ]
    }
   ],
   "source": [
    "    history = model.fit(\n",
    "        train_features,\n",
    "        train_labels,\n",
    "        validation_split=0.2,\n",
    "        epochs=3)"
   ]
  },
  {
   "cell_type": "code",
   "execution_count": 116,
   "metadata": {},
   "outputs": [
    {
     "name": "stdout",
     "output_type": "stream",
     "text": [
      "WARNING:tensorflow:Model was constructed with shape (None, None) for input KerasTensor(type_spec=TensorSpec(shape=(None, None), dtype=tf.float32, name='normalization_3_input'), name='normalization_3_input', description=\"created by layer 'normalization_3_input'\"), but it was called on an input with incompatible shape (None,).\n",
      "1/1 [==============================] - 0s 70ms/step\n"
     ]
    },
    {
     "data": {
      "text/plain": [
       "array([[9.255]], dtype=float32)"
      ]
     },
     "execution_count": 116,
     "metadata": {},
     "output_type": "execute_result"
    }
   ],
   "source": [
    "input = np.array([\n",
    "    1, # Subject (math: 0, reading: 1)\n",
    "    8, # Grade\n",
    "    2015, # Year\n",
    "    75, # Cohort Percentage\n",
    "    0, # Asian\n",
    "    0, # African American\n",
    "    0, # Hispanic\n",
    "    0, # Native American\n",
    "    0, # White\n",
    "    0, # ECD\n",
    "    0, # NEC\n",
    "    0, # Male\n",
    "    0, # Female\n",
    "])\n",
    "model.predict(input)"
   ]
  },
  {
   "cell_type": "code",
   "execution_count": 117,
   "metadata": {},
   "outputs": [
    {
     "name": "stdout",
     "output_type": "stream",
     "text": [
      "671/671 [==============================] - 1s 927us/step\n"
     ]
    },
    {
     "data": {
      "image/png": "[encoded data removed]",
      "text/plain": [
       "<Figure size 432x288 with 1 Axes>"
      ]
     },
     "metadata": {
      "needs_background": "light"
     },
     "output_type": "display_data"
    }
   ],
   "source": [
    "test_predictions = model.predict(test_features).flatten()\n",
    "\n",
    "a = plt.axes(aspect='equal')\n",
    "plt.scatter(test_labels, test_predictions)\n",
    "plt.xlabel('True Values')\n",
    "plt.ylabel('Predictions')\n",
    "lims = [0, 15]\n",
    "plt.xlim(lims)\n",
    "plt.ylim(lims)\n",
    "_ = plt.plot(lims, lims)"
   ]
  },
  {
   "cell_type": "code",
   "execution_count": 118,
   "metadata": {},
   "outputs": [
    {
     "data": {
      "image/png": "[encoded data removed]",
      "text/plain": [
       "<Figure size 432x288 with 2 Axes>"
      ]
     },
     "metadata": {
      "needs_background": "light"
     },
     "output_type": "display_data"
    }
   ],
   "source": [
    "def heatmap(x, y, smoothing, bins=(512,512)):\n",
    "    heatmap, x, y = np.histogram2d(x, y, bins=bins)\n",
    "    heatmap = gaussian_filter(heatmap, sigma=smoothing)\n",
    "\n",
    "    extent = [0, 15, 0, 15]\n",
    "    return heatmap.T, extent\n",
    "\n",
    "# Adjust what the max income shown on the heatmap is \n",
    "x = test_labels\n",
    "y = test_predictions\n",
    "\n",
    "# Smooting Factor (Standard deviation for Gaussian Filter.) Blurs or smooths the heatmap for a better look.\n",
    "smoothing = 16\n",
    "\n",
    "# Displays the HeatMap\n",
    "plt.xlabel(\"True Value\")\n",
    "plt.ylabel(\"Predicted Value\")\n",
    "img, extent = heatmap(x, y, smoothing)\n",
    "plt.imshow(img, extent=extent, origin='lower', cmap=cm.jet, aspect='auto')\n",
    "\n",
    "# Displays the colourbar on the side\n",
    "plt.rcParams[\"axes.formatter.limits\"] = (-5, 7)\n",
    "cb = plt.colorbar()\n",
    "cb.set_label('Frequency')\n",
    "\n",
    "_ = plt.plot(lims, lims, color='black')\n",
    "\n",
    "plt.show()"
   ]
  },
  {
   "cell_type": "code",
   "execution_count": 119,
   "metadata": {},
   "outputs": [],
   "source": [
    "def plot_loss(history):\n",
    "  plt.plot(history.history['loss'], label='loss')\n",
    "  plt.plot(history.history['val_loss'], label='val_loss')\n",
    "  plt.xticks(np.arange(0, 3, 1))\n",
    "  plt.xlabel('Epoch')\n",
    "  plt.ylabel('Error')\n",
    "  plt.legend()\n",
    "  plt.grid(True)"
   ]
  },
  {
   "cell_type": "code",
   "execution_count": 120,
   "metadata": {},
   "outputs": [
    {
     "data": {
      "image/png": "[encoded data removed]",
      "text/plain": [
       "<Figure size 432x288 with 1 Axes>"
      ]
     },
     "metadata": {
      "needs_background": "light"
     },
     "output_type": "display_data"
    }
   ],
   "source": [
    "plot_loss(history)"
   ]
  },
  {
   "cell_type": "code",
   "execution_count": 121,
   "metadata": {},
   "outputs": [
    {
     "name": "stdout",
     "output_type": "stream",
     "text": [
      "0.9946413636207581\n"
     ]
    }
   ],
   "source": [
    "test_results = model.evaluate(test_features, test_labels, verbose=0)\n",
    "print(test_results)"
   ]
  },
  {
   "cell_type": "code",
   "execution_count": 122,
   "metadata": {},
   "outputs": [],
   "source": [
    "# Feature Importance\n",
    "def permutate_col(column):\n",
    "    permutated_test_features = test_features.copy()\n",
    "    permutated_test_features[column] = np.random.permutation(permutated_test_features[column])\n",
    "    return permutated_test_features\n",
    "    "
   ]
  },
  {
   "cell_type": "code",
   "execution_count": 123,
   "metadata": {},
   "outputs": [
    {
     "name": "stdout",
     "output_type": "stream",
     "text": [
      "13\n",
      "   Permutated Column      Loss\n",
      "0            subject  0.998657\n",
      "4              asian  0.998970\n",
      "2               year  1.002159\n",
      "7    native american  1.006079\n",
      "5   african american  1.012655\n",
      "6           hispanic  1.013161\n",
      "3         cohort_pct  1.028223\n",
      "11            female  1.042586\n",
      "10               nec  1.073712\n",
      "12              male  1.077064\n",
      "9                ECD  1.098007\n",
      "8              white  1.334743\n",
      "1              grade  2.149942\n"
     ]
    }
   ],
   "source": [
    "print(len(test_features.columns))\n",
    "test_features.head()\n",
    "col_name = []\n",
    "scores = []\n",
    "for col in test_features.columns:\n",
    "    permutated_col = permutate_col(col)\n",
    "    score = model.evaluate(permutated_col, test_labels, verbose=0)\n",
    "    col_name.append(col)\n",
    "    scores.append(score)\n",
    "feature_importance = pd.DataFrame({'Permutated Column':col_name,\"Loss\":scores})\n",
    "feature_importance = feature_importance.sort_values(by='Loss', axis=0)\n",
    "print(feature_importance)"
   ]
  },
  {
   "cell_type": "code",
   "execution_count": 124,
   "metadata": {},
   "outputs": [],
   "source": [
    "feature_importance = feature_importance.drop(1)"
   ]
  },
  {
   "cell_type": "code",
   "execution_count": 125,
   "metadata": {},
   "outputs": [
    {
     "data": {
      "text/plain": [
       "([0, 1, 2, 3, 4, 5, 6, 7, 8, 9, 10, 11],\n",
       " [Text(0, 0, ''),\n",
       "  Text(0, 0, ''),\n",
       "  Text(0, 0, ''),\n",
       "  Text(0, 0, ''),\n",
       "  Text(0, 0, ''),\n",
       "  Text(0, 0, ''),\n",
       "  Text(0, 0, ''),\n",
       "  Text(0, 0, ''),\n",
       "  Text(0, 0, ''),\n",
       "  Text(0, 0, ''),\n",
       "  Text(0, 0, ''),\n",
       "  Text(0, 0, '')])"
      ]
     },
     "execution_count": 125,
     "metadata": {},
     "output_type": "execute_result"
    },
    {
     "data": {
      "image/png": "[encoded data removed]",
      "text/plain": [
       "<Figure size 720x576 with 1 Axes>"
      ]
     },
     "metadata": {
      "needs_background": "light"
     },
     "output_type": "display_data"
    }
   ],
   "source": [
    "x = feature_importance['Permutated Column'].astype(str)\n",
    "y = feature_importance['Loss']\n",
    "plt.figure(figsize=(10,8))\n",
    "plt.ylabel('Loss', fontsize=14)\n",
    "plt.scatter(x=x, y=y)\n",
    "plt.xticks(rotation = 90, fontsize=14)"
   ]
  },
  {
   "cell_type": "code",
   "execution_count": 126,
   "metadata": {},
   "outputs": [
    {
     "data": {
      "text/plain": [
       "<matplotlib.table.Table at 0x227b379ee00>"
      ]
     },
     "execution_count": 126,
     "metadata": {},
     "output_type": "execute_result"
    },
    {
     "data": {
      "image/png": "[encoded data removed]",
      "text/plain": [
       "<Figure size 432x288 with 1 Axes>"
      ]
     },
     "metadata": {
      "needs_background": "light"
     },
     "output_type": "display_data"
    }
   ],
   "source": [
    "ax = plt.subplot(111, frame_on=False)\n",
    "ax.xaxis.set_visible(False)\n",
    "ax.yaxis.set_visible(False)\n",
    "table(ax, feature_importance)"
   ]
  },
  {
   "cell_type": "code",
   "execution_count": 127,
   "metadata": {},
   "outputs": [
    {
     "data": {
      "text/html": [
       "<div>\n",
       "<style scoped>\n",
       "    .dataframe tbody tr th:only-of-type {\n",
       "        vertical-align: middle;\n",
       "    }\n",
       "\n",
       "    .dataframe tbody tr th {\n",
       "        vertical-align: top;\n",
       "    }\n",
       "\n",
       "    .dataframe thead th {\n",
       "        text-align: right;\n",
       "    }\n",
       "</style>\n",
       "<table border=\"1\" class=\"dataframe\">\n",
       "  <thead>\n",
       "    <tr style=\"text-align: right;\">\n",
       "      <th></th>\n",
       "      <th>subject</th>\n",
       "      <th>grade</th>\n",
       "      <th>year</th>\n",
       "      <th>score</th>\n",
       "      <th>cohort_pct</th>\n",
       "      <th>asian</th>\n",
       "      <th>african american</th>\n",
       "      <th>hispanic</th>\n",
       "      <th>native american</th>\n",
       "      <th>white</th>\n",
       "      <th>ECD</th>\n",
       "      <th>nec</th>\n",
       "      <th>female</th>\n",
       "      <th>male</th>\n",
       "    </tr>\n",
       "  </thead>\n",
       "  <tbody>\n",
       "    <tr>\n",
       "      <th>811010</th>\n",
       "      <td>1</td>\n",
       "      <td>4</td>\n",
       "      <td>2011</td>\n",
       "      <td>5.515386</td>\n",
       "      <td>4.679803</td>\n",
       "      <td>1.0</td>\n",
       "      <td>0.0</td>\n",
       "      <td>0.0</td>\n",
       "      <td>0.0</td>\n",
       "      <td>0.0</td>\n",
       "      <td>0.0</td>\n",
       "      <td>0.0</td>\n",
       "      <td>0.0</td>\n",
       "      <td>0.0</td>\n",
       "    </tr>\n",
       "    <tr>\n",
       "      <th>101656</th>\n",
       "      <td>1</td>\n",
       "      <td>8</td>\n",
       "      <td>2016</td>\n",
       "      <td>7.253907</td>\n",
       "      <td>51.515152</td>\n",
       "      <td>0.0</td>\n",
       "      <td>0.0</td>\n",
       "      <td>0.0</td>\n",
       "      <td>0.0</td>\n",
       "      <td>0.0</td>\n",
       "      <td>0.0</td>\n",
       "      <td>0.0</td>\n",
       "      <td>0.0</td>\n",
       "      <td>1.0</td>\n",
       "    </tr>\n",
       "    <tr>\n",
       "      <th>65267</th>\n",
       "      <td>0</td>\n",
       "      <td>5</td>\n",
       "      <td>2012</td>\n",
       "      <td>5.057503</td>\n",
       "      <td>100.000000</td>\n",
       "      <td>0.0</td>\n",
       "      <td>0.0</td>\n",
       "      <td>0.0</td>\n",
       "      <td>0.0</td>\n",
       "      <td>1.0</td>\n",
       "      <td>0.0</td>\n",
       "      <td>0.0</td>\n",
       "      <td>0.0</td>\n",
       "      <td>0.0</td>\n",
       "    </tr>\n",
       "    <tr>\n",
       "      <th>1295381</th>\n",
       "      <td>0</td>\n",
       "      <td>4</td>\n",
       "      <td>2011</td>\n",
       "      <td>4.235619</td>\n",
       "      <td>53.061224</td>\n",
       "      <td>0.0</td>\n",
       "      <td>0.0</td>\n",
       "      <td>0.0</td>\n",
       "      <td>0.0</td>\n",
       "      <td>0.0</td>\n",
       "      <td>1.0</td>\n",
       "      <td>0.0</td>\n",
       "      <td>0.0</td>\n",
       "      <td>0.0</td>\n",
       "    </tr>\n",
       "    <tr>\n",
       "      <th>1031686</th>\n",
       "      <td>0</td>\n",
       "      <td>4</td>\n",
       "      <td>2017</td>\n",
       "      <td>3.018982</td>\n",
       "      <td>14.430380</td>\n",
       "      <td>0.0</td>\n",
       "      <td>1.0</td>\n",
       "      <td>0.0</td>\n",
       "      <td>0.0</td>\n",
       "      <td>0.0</td>\n",
       "      <td>0.0</td>\n",
       "      <td>0.0</td>\n",
       "      <td>0.0</td>\n",
       "      <td>0.0</td>\n",
       "    </tr>\n",
       "  </tbody>\n",
       "</table>\n",
       "</div>"
      ],
      "text/plain": [
       "         subject  grade  year     score  cohort_pct  asian  african american  \\\n",
       "811010         1      4  2011  5.515386    4.679803    1.0               0.0   \n",
       "101656         1      8  2016  7.253907   51.515152    0.0               0.0   \n",
       "65267          0      5  2012  5.057503  100.000000    0.0               0.0   \n",
       "1295381        0      4  2011  4.235619   53.061224    0.0               0.0   \n",
       "1031686        0      4  2017  3.018982   14.430380    0.0               1.0   \n",
       "\n",
       "         hispanic  native american  white  ECD  nec  female  male  \n",
       "811010        0.0              0.0    0.0  0.0  0.0     0.0   0.0  \n",
       "101656        0.0              0.0    0.0  0.0  0.0     0.0   1.0  \n",
       "65267         0.0              0.0    1.0  0.0  0.0     0.0   0.0  \n",
       "1295381       0.0              0.0    0.0  1.0  0.0     0.0   0.0  \n",
       "1031686       0.0              0.0    0.0  0.0  0.0     0.0   0.0  "
      ]
     },
     "execution_count": 127,
     "metadata": {},
     "output_type": "execute_result"
    }
   ],
   "source": [
    "seda.head()"
   ]
  }
 ],
 "metadata": {
  "kernelspec": {
   "display_name": "Python 3.10.4 64-bit",
   "language": "python",
   "name": "python3"
  },
  "language_info": {
   "codemirror_mode": {
    "name": "ipython",
    "version": 3
   },
   "file_extension": ".py",
   "mimetype": "text/x-python",
   "name": "python",
   "nbconvert_exporter": "python",
   "pygments_lexer": "ipython3",
   "version": "3.10.4"
  },
  "orig_nbformat": 4,
  "vscode": {
   "interpreter": {
    "hash": "4c0655940de6d00e9ed5462617a3df22ecaf6c9081dc134ab84aa8c036c8be09"
   }
  }
 },
 "nbformat": 4,
 "nbformat_minor": 2
}
